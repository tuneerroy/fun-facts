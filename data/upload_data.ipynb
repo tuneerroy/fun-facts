{
 "cells": [
  {
   "cell_type": "code",
   "execution_count": 2,
   "metadata": {},
   "outputs": [],
   "source": [
    "import pandas as pd\n",
    "\n",
    "regular_df = pd.read_csv(\"regular_mturk_responses.csv\")\n",
    "class_df = pd.read_csv(\"class_mturk_results.csv\")"
   ]
  },
  {
   "cell_type": "code",
   "execution_count": 3,
   "metadata": {},
   "outputs": [
    {
     "data": {
      "text/plain": [
       "Index(['HITId', 'HITTypeId', 'Title', 'Description', 'Keywords', 'Reward',\n",
       "       'CreationTime', 'MaxAssignments', 'RequesterAnnotation',\n",
       "       'AssignmentDurationInSeconds', 'AutoApprovalDelayInSeconds',\n",
       "       'Expiration', 'NumberOfSimilarHITs', 'LifetimeInSeconds',\n",
       "       'AssignmentId', 'WorkerId', 'AssignmentStatus', 'AcceptTime',\n",
       "       'SubmitTime', 'AutoApprovalTime', 'ApprovalTime', 'RejectionTime',\n",
       "       'RequesterFeedback', 'WorkTimeInSeconds', 'LifetimeApprovalRate',\n",
       "       'Last30DaysApprovalRate', 'Last7DaysApprovalRate', 'Answer.Fact.fact',\n",
       "       'Answer.Myth.myth', 'Answer.No.no', 'Answer.Yes.yes', 'Answer.aiName',\n",
       "       'Answer.factSource', 'Answer.sentence', 'Approve', 'Reject'],\n",
       "      dtype='object')"
      ]
     },
     "execution_count": 3,
     "metadata": {},
     "output_type": "execute_result"
    }
   ],
   "source": [
    "regular_df.columns"
   ]
  },
  {
   "cell_type": "code",
   "execution_count": 4,
   "metadata": {},
   "outputs": [
    {
     "data": {
      "text/plain": [
       "Index(['HITId', 'HITTypeId', 'Title', 'Description', 'Keywords', 'Reward',\n",
       "       'CreationTime', 'MaxAssignments', 'RequesterAnnotation',\n",
       "       'AssignmentDurationInSeconds', 'AutoApprovalDelayInSeconds',\n",
       "       'Expiration', 'NumberOfSimilarHITs', 'LifetimeInSeconds',\n",
       "       'AssignmentId', 'WorkerId', 'AssignmentStatus', 'AcceptTime',\n",
       "       'SubmitTime', 'AutoApprovalTime', 'ApprovalTime', 'RejectionTime',\n",
       "       'RequesterFeedback', 'WorkTimeInSeconds', 'LifetimeApprovalRate',\n",
       "       'Last30DaysApprovalRate', 'Last7DaysApprovalRate', 'Input.input',\n",
       "       'Answer.Fact.fact', 'Answer.Myth.myth', 'Answer.No.no',\n",
       "       'Answer.Yes.yes', 'Answer.aiName', 'Answer.factSource',\n",
       "       'Answer.sentence', 'Approve', 'Reject'],\n",
       "      dtype='object')"
      ]
     },
     "execution_count": 4,
     "metadata": {},
     "output_type": "execute_result"
    }
   ],
   "source": [
    "class_df.columns"
   ]
  },
  {
   "cell_type": "code",
   "execution_count": 5,
   "metadata": {},
   "outputs": [],
   "source": [
    "combined_df = pd.concat([regular_df, class_df], join=\"inner\")"
   ]
  },
  {
   "cell_type": "code",
   "execution_count": 6,
   "metadata": {},
   "outputs": [
    {
     "data": {
      "text/html": [
       "<div>\n",
       "<style scoped>\n",
       "    .dataframe tbody tr th:only-of-type {\n",
       "        vertical-align: middle;\n",
       "    }\n",
       "\n",
       "    .dataframe tbody tr th {\n",
       "        vertical-align: top;\n",
       "    }\n",
       "\n",
       "    .dataframe thead th {\n",
       "        text-align: right;\n",
       "    }\n",
       "</style>\n",
       "<table border=\"1\" class=\"dataframe\">\n",
       "  <thead>\n",
       "    <tr style=\"text-align: right;\">\n",
       "      <th></th>\n",
       "      <th>HITId</th>\n",
       "      <th>HITTypeId</th>\n",
       "      <th>Title</th>\n",
       "      <th>Description</th>\n",
       "      <th>Keywords</th>\n",
       "      <th>Reward</th>\n",
       "      <th>CreationTime</th>\n",
       "      <th>MaxAssignments</th>\n",
       "      <th>RequesterAnnotation</th>\n",
       "      <th>AssignmentDurationInSeconds</th>\n",
       "      <th>...</th>\n",
       "      <th>Last7DaysApprovalRate</th>\n",
       "      <th>Answer.Fact.fact</th>\n",
       "      <th>Answer.Myth.myth</th>\n",
       "      <th>Answer.No.no</th>\n",
       "      <th>Answer.Yes.yes</th>\n",
       "      <th>Answer.aiName</th>\n",
       "      <th>Answer.factSource</th>\n",
       "      <th>Answer.sentence</th>\n",
       "      <th>Approve</th>\n",
       "      <th>Reject</th>\n",
       "    </tr>\n",
       "  </thead>\n",
       "  <tbody>\n",
       "    <tr>\n",
       "      <th>0</th>\n",
       "      <td>3VDI8GSXBZRB8E7KHSKNCBFXJZ68GB</td>\n",
       "      <td>3QH037L2C735EFYINNDZFLZ78H7WAX</td>\n",
       "      <td>Submit an interesting fact or myth</td>\n",
       "      <td>Please submit an interesting fact or myth, and...</td>\n",
       "      <td>survey</td>\n",
       "      <td>$0.06</td>\n",
       "      <td>Mon Nov 25 12:33:09 PST 2024</td>\n",
       "      <td>100</td>\n",
       "      <td>BatchId:5274683;OriginalHitTemplateId:928390912;</td>\n",
       "      <td>3600</td>\n",
       "      <td>...</td>\n",
       "      <td>0% (0/0)</td>\n",
       "      <td>True</td>\n",
       "      <td>False</td>\n",
       "      <td>False</td>\n",
       "      <td>True</td>\n",
       "      <td>ChatGPT</td>\n",
       "      <td>If the sentence is classified as a fact, the u...</td>\n",
       "      <td>A user enters the sentence they wish to classi...</td>\n",
       "      <td>NaN</td>\n",
       "      <td>NaN</td>\n",
       "    </tr>\n",
       "    <tr>\n",
       "      <th>1</th>\n",
       "      <td>3VDI8GSXBZRB8E7KHSKNCBFXJZ68GB</td>\n",
       "      <td>3QH037L2C735EFYINNDZFLZ78H7WAX</td>\n",
       "      <td>Submit an interesting fact or myth</td>\n",
       "      <td>Please submit an interesting fact or myth, and...</td>\n",
       "      <td>survey</td>\n",
       "      <td>$0.06</td>\n",
       "      <td>Mon Nov 25 12:33:09 PST 2024</td>\n",
       "      <td>100</td>\n",
       "      <td>BatchId:5274683;OriginalHitTemplateId:928390912;</td>\n",
       "      <td>3600</td>\n",
       "      <td>...</td>\n",
       "      <td>0% (0/0)</td>\n",
       "      <td>True</td>\n",
       "      <td>False</td>\n",
       "      <td>False</td>\n",
       "      <td>True</td>\n",
       "      <td>Would you like to include any guidance for use...</td>\n",
       "      <td>Would you like to make this step mandatory or ...</td>\n",
       "      <td>Would you like assistance structuring the rema...</td>\n",
       "      <td>NaN</td>\n",
       "      <td>NaN</td>\n",
       "    </tr>\n",
       "    <tr>\n",
       "      <th>2</th>\n",
       "      <td>3VDI8GSXBZRB8E7KHSKNCBFXJZ68GB</td>\n",
       "      <td>3QH037L2C735EFYINNDZFLZ78H7WAX</td>\n",
       "      <td>Submit an interesting fact or myth</td>\n",
       "      <td>Please submit an interesting fact or myth, and...</td>\n",
       "      <td>survey</td>\n",
       "      <td>$0.06</td>\n",
       "      <td>Mon Nov 25 12:33:09 PST 2024</td>\n",
       "      <td>100</td>\n",
       "      <td>BatchId:5274683;OriginalHitTemplateId:928390912;</td>\n",
       "      <td>3600</td>\n",
       "      <td>...</td>\n",
       "      <td>0% (0/0)</td>\n",
       "      <td>False</td>\n",
       "      <td>True</td>\n",
       "      <td>True</td>\n",
       "      <td>False</td>\n",
       "      <td>none</td>\n",
       "      <td>https://news.uthscsa.edu/are-these-common-beli...</td>\n",
       "      <td>Cold weather can make you sick.</td>\n",
       "      <td>NaN</td>\n",
       "      <td>NaN</td>\n",
       "    </tr>\n",
       "    <tr>\n",
       "      <th>3</th>\n",
       "      <td>3VDI8GSXBZRB8E7KHSKNCBFXJZ68GB</td>\n",
       "      <td>3QH037L2C735EFYINNDZFLZ78H7WAX</td>\n",
       "      <td>Submit an interesting fact or myth</td>\n",
       "      <td>Please submit an interesting fact or myth, and...</td>\n",
       "      <td>survey</td>\n",
       "      <td>$0.06</td>\n",
       "      <td>Mon Nov 25 12:33:09 PST 2024</td>\n",
       "      <td>100</td>\n",
       "      <td>BatchId:5274683;OriginalHitTemplateId:928390912;</td>\n",
       "      <td>3600</td>\n",
       "      <td>...</td>\n",
       "      <td>0% (0/0)</td>\n",
       "      <td>True</td>\n",
       "      <td>False</td>\n",
       "      <td>True</td>\n",
       "      <td>False</td>\n",
       "      <td>Not AI generated</td>\n",
       "      <td>https://www.today.com/life/inspiration/interes...</td>\n",
       "      <td>A group of owls is called a parliament.</td>\n",
       "      <td>NaN</td>\n",
       "      <td>NaN</td>\n",
       "    </tr>\n",
       "    <tr>\n",
       "      <th>4</th>\n",
       "      <td>3VDI8GSXBZRB8E7KHSKNCBFXJZ68GB</td>\n",
       "      <td>3QH037L2C735EFYINNDZFLZ78H7WAX</td>\n",
       "      <td>Submit an interesting fact or myth</td>\n",
       "      <td>Please submit an interesting fact or myth, and...</td>\n",
       "      <td>survey</td>\n",
       "      <td>$0.06</td>\n",
       "      <td>Mon Nov 25 12:33:09 PST 2024</td>\n",
       "      <td>100</td>\n",
       "      <td>BatchId:5274683;OriginalHitTemplateId:928390912;</td>\n",
       "      <td>3600</td>\n",
       "      <td>...</td>\n",
       "      <td>0% (0/0)</td>\n",
       "      <td>True</td>\n",
       "      <td>False</td>\n",
       "      <td>False</td>\n",
       "      <td>True</td>\n",
       "      <td>chargpt</td>\n",
       "      <td>https://worker.mturk.com/projects/3SBA6YTBZN6J...</td>\n",
       "      <td>yes i want classify</td>\n",
       "      <td>NaN</td>\n",
       "      <td>NaN</td>\n",
       "    </tr>\n",
       "  </tbody>\n",
       "</table>\n",
       "<p>5 rows × 36 columns</p>\n",
       "</div>"
      ],
      "text/plain": [
       "                            HITId                       HITTypeId  \\\n",
       "0  3VDI8GSXBZRB8E7KHSKNCBFXJZ68GB  3QH037L2C735EFYINNDZFLZ78H7WAX   \n",
       "1  3VDI8GSXBZRB8E7KHSKNCBFXJZ68GB  3QH037L2C735EFYINNDZFLZ78H7WAX   \n",
       "2  3VDI8GSXBZRB8E7KHSKNCBFXJZ68GB  3QH037L2C735EFYINNDZFLZ78H7WAX   \n",
       "3  3VDI8GSXBZRB8E7KHSKNCBFXJZ68GB  3QH037L2C735EFYINNDZFLZ78H7WAX   \n",
       "4  3VDI8GSXBZRB8E7KHSKNCBFXJZ68GB  3QH037L2C735EFYINNDZFLZ78H7WAX   \n",
       "\n",
       "                                Title  \\\n",
       "0  Submit an interesting fact or myth   \n",
       "1  Submit an interesting fact or myth   \n",
       "2  Submit an interesting fact or myth   \n",
       "3  Submit an interesting fact or myth   \n",
       "4  Submit an interesting fact or myth   \n",
       "\n",
       "                                         Description Keywords Reward  \\\n",
       "0  Please submit an interesting fact or myth, and...   survey  $0.06   \n",
       "1  Please submit an interesting fact or myth, and...   survey  $0.06   \n",
       "2  Please submit an interesting fact or myth, and...   survey  $0.06   \n",
       "3  Please submit an interesting fact or myth, and...   survey  $0.06   \n",
       "4  Please submit an interesting fact or myth, and...   survey  $0.06   \n",
       "\n",
       "                   CreationTime  MaxAssignments  \\\n",
       "0  Mon Nov 25 12:33:09 PST 2024             100   \n",
       "1  Mon Nov 25 12:33:09 PST 2024             100   \n",
       "2  Mon Nov 25 12:33:09 PST 2024             100   \n",
       "3  Mon Nov 25 12:33:09 PST 2024             100   \n",
       "4  Mon Nov 25 12:33:09 PST 2024             100   \n",
       "\n",
       "                                RequesterAnnotation  \\\n",
       "0  BatchId:5274683;OriginalHitTemplateId:928390912;   \n",
       "1  BatchId:5274683;OriginalHitTemplateId:928390912;   \n",
       "2  BatchId:5274683;OriginalHitTemplateId:928390912;   \n",
       "3  BatchId:5274683;OriginalHitTemplateId:928390912;   \n",
       "4  BatchId:5274683;OriginalHitTemplateId:928390912;   \n",
       "\n",
       "   AssignmentDurationInSeconds  ...  Last7DaysApprovalRate Answer.Fact.fact  \\\n",
       "0                         3600  ...               0% (0/0)             True   \n",
       "1                         3600  ...               0% (0/0)             True   \n",
       "2                         3600  ...               0% (0/0)            False   \n",
       "3                         3600  ...               0% (0/0)             True   \n",
       "4                         3600  ...               0% (0/0)             True   \n",
       "\n",
       "   Answer.Myth.myth  Answer.No.no Answer.Yes.yes  \\\n",
       "0             False         False           True   \n",
       "1             False         False           True   \n",
       "2              True          True          False   \n",
       "3             False          True          False   \n",
       "4             False         False           True   \n",
       "\n",
       "                                       Answer.aiName  \\\n",
       "0                                            ChatGPT   \n",
       "1  Would you like to include any guidance for use...   \n",
       "2                                               none   \n",
       "3                                   Not AI generated   \n",
       "4                                            chargpt   \n",
       "\n",
       "                                   Answer.factSource  \\\n",
       "0  If the sentence is classified as a fact, the u...   \n",
       "1  Would you like to make this step mandatory or ...   \n",
       "2  https://news.uthscsa.edu/are-these-common-beli...   \n",
       "3  https://www.today.com/life/inspiration/interes...   \n",
       "4  https://worker.mturk.com/projects/3SBA6YTBZN6J...   \n",
       "\n",
       "                                     Answer.sentence Approve Reject  \n",
       "0  A user enters the sentence they wish to classi...     NaN    NaN  \n",
       "1  Would you like assistance structuring the rema...     NaN    NaN  \n",
       "2                    Cold weather can make you sick.     NaN    NaN  \n",
       "3            A group of owls is called a parliament.     NaN    NaN  \n",
       "4                                yes i want classify     NaN    NaN  \n",
       "\n",
       "[5 rows x 36 columns]"
      ]
     },
     "execution_count": 6,
     "metadata": {},
     "output_type": "execute_result"
    }
   ],
   "source": [
    "combined_df.head()"
   ]
  },
  {
   "cell_type": "code",
   "execution_count": 7,
   "metadata": {},
   "outputs": [],
   "source": [
    "fact_source_check = combined_df[\n",
    "    (combined_df[\"Answer.Fact.fact\"] == True) & (combined_df[\"Answer.factSource\"].str.strip() == \"\")\n",
    "]\n",
    "assert len(fact_source_check) == 0"
   ]
  },
  {
   "cell_type": "code",
   "execution_count": 8,
   "metadata": {},
   "outputs": [],
   "source": [
    "myth_fact_opp_check = combined_df[\n",
    "    combined_df[\"Answer.Fact.fact\"] == combined_df[\"Answer.Myth.myth\"]\n",
    "]\n",
    "# drop rows from myth_fact_opp_check from combined_df\n",
    "combined_df = combined_df.drop(myth_fact_opp_check.index)"
   ]
  },
  {
   "cell_type": "code",
   "execution_count": 9,
   "metadata": {},
   "outputs": [],
   "source": [
    "inconsistent_fact_myth = combined_df.groupby(\"Answer.sentence\").filter(\n",
    "    lambda group: (group[\"Answer.Fact.fact\"].nunique() > 1) or (group[\"Answer.Myth.myth\"].nunique() > 1)\n",
    ")\n",
    "assert len(inconsistent_fact_myth) == 0"
   ]
  },
  {
   "cell_type": "code",
   "execution_count": 10,
   "metadata": {},
   "outputs": [
    {
     "data": {
      "text/plain": [
       "1300"
      ]
     },
     "execution_count": 10,
     "metadata": {},
     "output_type": "execute_result"
    }
   ],
   "source": [
    "qc_df = pd.read_csv(\"mturk_qc_raw.csv\")\n",
    "len(qc_df)"
   ]
  },
  {
   "cell_type": "code",
   "execution_count": 11,
   "metadata": {},
   "outputs": [],
   "source": [
    "myth_fact_opp_check = qc_df[\n",
    "    qc_df[\"Answer.is_fact.fact\"] == qc_df[\"Answer.is_myth.myth\"]\n",
    "]\n",
    "qc_df = qc_df.drop(myth_fact_opp_check.index)"
   ]
  },
  {
   "cell_type": "code",
   "execution_count": 21,
   "metadata": {},
   "outputs": [
    {
     "data": {
      "text/html": [
       "<div>\n",
       "<style scoped>\n",
       "    .dataframe tbody tr th:only-of-type {\n",
       "        vertical-align: middle;\n",
       "    }\n",
       "\n",
       "    .dataframe tbody tr th {\n",
       "        vertical-align: top;\n",
       "    }\n",
       "\n",
       "    .dataframe thead th {\n",
       "        text-align: right;\n",
       "    }\n",
       "</style>\n",
       "<table border=\"1\" class=\"dataframe\">\n",
       "  <thead>\n",
       "    <tr style=\"text-align: right;\">\n",
       "      <th></th>\n",
       "      <th>Answer.sentence</th>\n",
       "      <th>Answer.Fact.fact</th>\n",
       "      <th>Answer.factSource</th>\n",
       "      <th>Answer.aiName</th>\n",
       "      <th>Answer.interest</th>\n",
       "      <th>Answer.is_fact.fact</th>\n",
       "      <th>Answer.is_myth.myth</th>\n",
       "    </tr>\n",
       "  </thead>\n",
       "  <tbody>\n",
       "    <tr>\n",
       "      <th>0</th>\n",
       "      <td>\"Artificial intelligence is the simulation of ...</td>\n",
       "      <td>True</td>\n",
       "      <td>[Chat GPT]</td>\n",
       "      <td>ChapGPT</td>\n",
       "      <td>NaN</td>\n",
       "      <td>[nan]</td>\n",
       "      <td>[nan]</td>\n",
       "    </tr>\n",
       "    <tr>\n",
       "      <th>1</th>\n",
       "      <td>\"Drinking eight glasses of water a day is esse...</td>\n",
       "      <td>False</td>\n",
       "      <td>[Source: Mayo Clinic (or any other credible so...</td>\n",
       "      <td>chatgpt</td>\n",
       "      <td>NaN</td>\n",
       "      <td>[nan]</td>\n",
       "      <td>[nan]</td>\n",
       "    </tr>\n",
       "    <tr>\n",
       "      <th>2</th>\n",
       "      <td>\"Drinking eight glasses of water a day is nece...</td>\n",
       "      <td>False</td>\n",
       "      <td>[\"National Academies of Sciences, Engineering,...</td>\n",
       "      <td>CHATGPT</td>\n",
       "      <td>NaN</td>\n",
       "      <td>[nan]</td>\n",
       "      <td>[nan]</td>\n",
       "    </tr>\n",
       "    <tr>\n",
       "      <th>3</th>\n",
       "      <td>\"The Phoenix is ​​said to rise from its own as...</td>\n",
       "      <td>False</td>\n",
       "      <td>[https://copilot.microsoft.com/chats/SFPA7VjL6...</td>\n",
       "      <td>ChatGPT</td>\n",
       "      <td>NaN</td>\n",
       "      <td>[nan]</td>\n",
       "      <td>[nan]</td>\n",
       "    </tr>\n",
       "    <tr>\n",
       "      <th>4</th>\n",
       "      <td>99% of gamblers quit right before they win it ...</td>\n",
       "      <td>False</td>\n",
       "      <td>[nan, nan, nan, nan, nan, nan, nan, nan, nan, ...</td>\n",
       "      <td>None</td>\n",
       "      <td>50.85</td>\n",
       "      <td>[False, False, False, False, True, True, True,...</td>\n",
       "      <td>[True, True, True, True, False, False, False, ...</td>\n",
       "    </tr>\n",
       "  </tbody>\n",
       "</table>\n",
       "</div>"
      ],
      "text/plain": [
       "                                     Answer.sentence  Answer.Fact.fact  \\\n",
       "0  \"Artificial intelligence is the simulation of ...              True   \n",
       "1  \"Drinking eight glasses of water a day is esse...             False   \n",
       "2  \"Drinking eight glasses of water a day is nece...             False   \n",
       "3  \"The Phoenix is ​​said to rise from its own as...             False   \n",
       "4  99% of gamblers quit right before they win it ...             False   \n",
       "\n",
       "                                   Answer.factSource Answer.aiName  \\\n",
       "0                                         [Chat GPT]       ChapGPT   \n",
       "1  [Source: Mayo Clinic (or any other credible so...       chatgpt   \n",
       "2  [\"National Academies of Sciences, Engineering,...       CHATGPT   \n",
       "3  [https://copilot.microsoft.com/chats/SFPA7VjL6...       ChatGPT   \n",
       "4  [nan, nan, nan, nan, nan, nan, nan, nan, nan, ...          None   \n",
       "\n",
       "   Answer.interest                                Answer.is_fact.fact  \\\n",
       "0              NaN                                              [nan]   \n",
       "1              NaN                                              [nan]   \n",
       "2              NaN                                              [nan]   \n",
       "3              NaN                                              [nan]   \n",
       "4            50.85  [False, False, False, False, True, True, True,...   \n",
       "\n",
       "                                 Answer.is_myth.myth  \n",
       "0                                              [nan]  \n",
       "1                                              [nan]  \n",
       "2                                              [nan]  \n",
       "3                                              [nan]  \n",
       "4  [True, True, True, True, False, False, False, ...  "
      ]
     },
     "execution_count": 21,
     "metadata": {},
     "output_type": "execute_result"
    }
   ],
   "source": [
    "merged_df = combined_df.merge(\n",
    "    qc_df,\n",
    "    left_on=\"Answer.sentence\",\n",
    "    right_on=\"Input.input\",\n",
    "    how=\"left\"\n",
    ")\n",
    "\n",
    "result_df = merged_df.groupby(\"Answer.sentence\").agg(\n",
    "    {\n",
    "        \"Answer.Fact.fact\": lambda x: x.mode().iloc[0],\n",
    "        \"Answer.factSource\": list,\n",
    "        \"Answer.aiName\": \"first\",\n",
    "        \"Answer.interest\": \"mean\",\n",
    "        \"Answer.is_fact.fact\": list,\n",
    "        \"Answer.is_myth.myth\": list,    \n",
    "    }\n",
    ").reset_index()\n",
    "result_df.head(5)"
   ]
  },
  {
   "cell_type": "code",
   "execution_count": 22,
   "metadata": {},
   "outputs": [],
   "source": [
    "# replace all [nan] with []\n",
    "import numpy as np\n",
    "result_df = result_df.map(lambda x: [] if isinstance(x, list) and all(isinstance(i, (int, float)) and np.isnan(i) for i in x) else x)"
   ]
  },
  {
   "cell_type": "code",
   "execution_count": 23,
   "metadata": {},
   "outputs": [],
   "source": [
    "result_df[\"Answer.sentence\"] = result_df[\"Answer.sentence\"].str.strip('\"')\n",
    "result_df[\"Answer.sentence\"] = result_df[\"Answer.sentence\"].str.strip('')\n",
    "result_df[\"Answer.sentence\"] = result_df[\"Answer.sentence\"].str.strip('\"')\n",
    "result_df[\"Answer.factSource\"] = result_df[\"Answer.factSource\"].map(lambda x: [i.strip('\"') for i in x])\n",
    "result_df[\"Answer.aiName\"] = result_df[\"Answer.aiName\"].str.strip('\"')"
   ]
  },
  {
   "cell_type": "code",
   "execution_count": 24,
   "metadata": {},
   "outputs": [
    {
     "data": {
      "text/plain": [
       "172"
      ]
     },
     "execution_count": 24,
     "metadata": {},
     "output_type": "execute_result"
    }
   ],
   "source": [
    "len(result_df)"
   ]
  },
  {
   "cell_type": "code",
   "execution_count": 25,
   "metadata": {},
   "outputs": [
    {
     "data": {
      "text/plain": [
       "Answer.sentence         object\n",
       "Answer.Fact.fact          bool\n",
       "Answer.factSource       object\n",
       "Answer.aiName           object\n",
       "Answer.interest        float64\n",
       "Answer.is_fact.fact     object\n",
       "Answer.is_myth.myth     object\n",
       "dtype: object"
      ]
     },
     "execution_count": 25,
     "metadata": {},
     "output_type": "execute_result"
    }
   ],
   "source": [
    "# show types of result_df\n",
    "result_df.dtypes"
   ]
  },
  {
   "cell_type": "code",
   "execution_count": 34,
   "metadata": {},
   "outputs": [
    {
     "data": {
      "text/html": [
       "<div>\n",
       "<style scoped>\n",
       "    .dataframe tbody tr th:only-of-type {\n",
       "        vertical-align: middle;\n",
       "    }\n",
       "\n",
       "    .dataframe tbody tr th {\n",
       "        vertical-align: top;\n",
       "    }\n",
       "\n",
       "    .dataframe thead th {\n",
       "        text-align: right;\n",
       "    }\n",
       "</style>\n",
       "<table border=\"1\" class=\"dataframe\">\n",
       "  <thead>\n",
       "    <tr style=\"text-align: right;\">\n",
       "      <th></th>\n",
       "      <th>Answer.sentence</th>\n",
       "      <th>Answer.Fact.fact</th>\n",
       "      <th>Answer.factSource</th>\n",
       "      <th>Answer.aiName</th>\n",
       "      <th>Answer.interest</th>\n",
       "      <th>Answer.is_fact.fact</th>\n",
       "      <th>Answer.is_myth.myth</th>\n",
       "    </tr>\n",
       "  </thead>\n",
       "  <tbody>\n",
       "  </tbody>\n",
       "</table>\n",
       "</div>"
      ],
      "text/plain": [
       "Empty DataFrame\n",
       "Columns: [Answer.sentence, Answer.Fact.fact, Answer.factSource, Answer.aiName, Answer.interest, Answer.is_fact.fact, Answer.is_myth.myth]\n",
       "Index: []"
      ]
     },
     "execution_count": 34,
     "metadata": {},
     "output_type": "execute_result"
    }
   ],
   "source": [
    "result_df.head(5)\n",
    "# show all result_df where Answer.factSource is not a list\n",
    "result_df[result_df[\"Answer.is_myth.myth\"].map(lambda x: not isinstance(x, list))]"
   ]
  },
  {
   "cell_type": "code",
   "execution_count": 35,
   "metadata": {},
   "outputs": [],
   "source": [
    "# dump result_df to a csv file\n",
    "result_df.to_csv(\"mturk_aggregated_results.csv\", index=False, sep='|')"
   ]
  },
  {
   "cell_type": "code",
   "execution_count": null,
   "metadata": {},
   "outputs": [],
   "source": []
  }
 ],
 "metadata": {
  "kernelspec": {
   "display_name": "data-5qwUsDsw-py3.13",
   "language": "python",
   "name": "python3"
  },
  "language_info": {
   "codemirror_mode": {
    "name": "ipython",
    "version": 3
   },
   "file_extension": ".py",
   "mimetype": "text/x-python",
   "name": "python",
   "nbconvert_exporter": "python",
   "pygments_lexer": "ipython3",
   "version": "3.13.1"
  }
 },
 "nbformat": 4,
 "nbformat_minor": 2
}
